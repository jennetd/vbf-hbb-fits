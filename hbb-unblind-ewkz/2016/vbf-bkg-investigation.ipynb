{
 "cells": [
  {
   "cell_type": "code",
   "execution_count": 1,
   "metadata": {},
   "outputs": [
    {
     "name": "stdout",
     "output_type": "stream",
     "text": [
      "Welcome to JupyROOT 6.12/07\n"
     ]
    },
    {
     "name": "stderr",
     "output_type": "stream",
     "text": [
      "/cvmfs/cms.cern.ch/slc7_amd64_gcc700/lcg/root/6.12.07-gnimlf5/lib/ROOT.py:318: DeprecationWarning: Python 2 has reached EOL. mplhep is in a deprecated mode. Please switch to Python 3.\n",
      "  return _orig_ihook( name, *args, **kwds )\n"
     ]
    }
   ],
   "source": [
    "import argparse\n",
    "import os\n",
    "import json\n",
    "import ROOT as r\n",
    "import numpy as np\n",
    "import matplotlib.pyplot as plt\n",
    "import mplhep as hep\n",
    "import uproot3\n",
    "from matplotlib.offsetbox import AnchoredText\n",
    "from util import make_dirs"
   ]
  },
  {
   "cell_type": "code",
   "execution_count": 2,
   "metadata": {},
   "outputs": [],
   "source": [
    "year = \"2016\"\n",
    "f = uproot3.open('fitDiagnosticsTest.root')\n",
    "g = uproot3.open('signalregion.root')"
   ]
  },
  {
   "cell_type": "code",
   "execution_count": 3,
   "metadata": {},
   "outputs": [],
   "source": [
    "def plotTF_ratio_onebin(in_ratio, h_ratio, region):\n",
    "    fig, ax = plt.subplots(figsize=(6,6))\n",
    "    \n",
    "    color = 'blue'\n",
    "    if 'res' in region:\n",
    "        color = 'red'\n",
    "        \n",
    "    x = [0,1]\n",
    "    center = in_ratio.GetBinContent(1)\n",
    "    down = center - in_ratio.GetBinError(1)\n",
    "    up = center + in_ratio.GetBinError(1)\n",
    "    \n",
    "    plt.fill_between(x, [down, down], [up, up],color=color,alpha=0.3)\n",
    "    plt.plot(x,[center,center],color=color)\n",
    "    \n",
    "    plt.errorbar(x=[0.5],y=[h_ratio.GetBinContent(1)],yerr=[h_ratio.GetBinError(1)],marker='o',color='black')\n"
   ]
  },
  {
   "cell_type": "code",
   "execution_count": 4,
   "metadata": {},
   "outputs": [
    {
     "data": {
      "image/png": "[encoded data removed]",
      "text/plain": [
       "<Figure size 432x432 with 1 Axes>"
      ]
     },
     "metadata": {},
     "output_type": "display_data"
    }
   ],
   "source": [
    "cat = 'vbflo'\n",
    "fail_qcd, pass_qcd = [], []\n",
    "bins = []\n",
    "\n",
    "fit = r.TFile.Open('fitDiagnosticsTest.root','READ')\n",
    "fail_qcd = fit.Get('shapes_{}/ptbin0{}{}{}/qcd;1'.format('prefit', cat, 'fail', year))\n",
    "fail_qcd.Rebin(23)\n",
    "pass_qcd = fit.Get('shapes_{}/ptbin0{}{}{}/qcd;1'.format('prefit', cat, 'pass', year))\n",
    "pass_qcd.Rebin(23)\n",
    "pass_qcd.Divide(fail_qcd)\n",
    "\n",
    "signalregion = r.TFile.Open('signalregion.root','READ')\n",
    "hfail = signalregion.Get('vbf_{}_mjj1_QCD_nominal;1'.format('fail'))\n",
    "hfail.Rebin(23)\n",
    "hpass = signalregion.Get('vbf_{}_mjj1_QCD_nominal;1'.format('pass'))\n",
    "hpass.Rebin(23)\n",
    "hpass.Divide(hfail)\n",
    "\n",
    "ax = plotTF_ratio_onebin(pass_qcd, hpass, region=\"VBF mjj bin 1, \"+year)\n",
    "#ax.legend(labels=['F_{P/F}','QCD pass MC'],frameon=False)"
   ]
  },
  {
   "cell_type": "code",
   "execution_count": 5,
   "metadata": {},
   "outputs": [
    {
     "data": {
      "image/png": "[encoded data removed]",
      "text/plain": [
       "<Figure size 432x432 with 1 Axes>"
      ]
     },
     "metadata": {},
     "output_type": "display_data"
    }
   ],
   "source": [
    "cat = 'vbfhi'\n",
    "\n",
    "fit = r.TFile.Open('fitDiagnosticsTest.root','READ')\n",
    "fail_qcd = fit.Get('shapes_{}/ptbin0{}{}{}/qcd;1'.format('prefit', cat, 'fail', year))\n",
    "fail_qcd.Rebin(23)\n",
    "pass_qcd = fit.Get('shapes_{}/ptbin0{}{}{}/qcd;1'.format('prefit', cat, 'pass', year))\n",
    "pass_qcd.Rebin(23)\n",
    "pass_qcd.Divide(fail_qcd)\n",
    "\n",
    "signalregion = r.TFile.Open('signalregion.root','READ')\n",
    "hfail = signalregion.Get('vbf_{}_mjj2_QCD_nominal;1'.format('fail'))\n",
    "hfail.Rebin(23)\n",
    "hpass = signalregion.Get('vbf_{}_mjj2_QCD_nominal;1'.format('pass'))\n",
    "hpass.Rebin(23)\n",
    "hpass.Divide(hfail)\n",
    "\n",
    "ax = plotTF_ratio_onebin(pass_qcd, hpass, region=\"VBF mjj bin 1, \"+year)\n",
    "#ax.legend(labels=['F_{P/F}','QCD pass MC'],frameon=False)"
   ]
  },
  {
   "cell_type": "code",
   "execution_count": 6,
   "metadata": {},
   "outputs": [
    {
     "name": "stdout",
     "output_type": "stream",
     "text": [
      "4974.11816406\n",
      "16.7505989075\n",
      "('Missing hist ', 'shapes_fit_s/ptbin0vbflopass2016/singlet')\n"
     ]
    },
    {
     "name": "stderr",
     "output_type": "stream",
     "text": [
      "Info in <TH1D::Add>: Attempt to add histograms with different number of bins - trying to use TH1::Merge\n",
      "Info in <TH1D::Add>: Attempt to add histograms with different number of bins - trying to use TH1::Merge\n",
      "Info in <TH1D::Add>: Attempt to add histograms with different number of bins - trying to use TH1::Merge\n",
      "Info in <TH1D::Add>: Attempt to add histograms with different number of bins - trying to use TH1::Merge\n",
      "Info in <TH1D::Add>: Attempt to add histograms with different number of bins - trying to use TH1::Merge\n",
      "Info in <TH1D::Add>: Attempt to add histograms with different number of bins - trying to use TH1::Merge\n",
      "Info in <TH1D::Add>: Attempt to add histograms with different number of bins - trying to use TH1::Merge\n",
      "Info in <TH1D::Add>: Attempt to add histograms with different number of bins - trying to use TH1::Merge\n",
      "Info in <TH1D::Add>: Attempt to add histograms with different number of bins - trying to use TH1::Merge\n",
      "Info in <TH1D::Add>: Attempt to add histograms with different number of bins - trying to use TH1::Merge\n",
      "Info in <TH1D::Add>: Attempt to add histograms with different number of bins - trying to use TH1::Merge\n",
      "Info in <TH1D::Add>: Attempt to add histograms with different number of bins - trying to use TH1::Merge\n",
      "Info in <TH1D::Add>: Attempt to add histograms with different number of bins - trying to use TH1::Merge\n",
      "Info in <TH1D::Add>: Attempt to add histograms with different number of bins - trying to use TH1::Merge\n",
      "Info in <TH1D::Add>: Attempt to add histograms with different number of bins - trying to use TH1::Merge\n",
      "Info in <TH1D::Add>: Attempt to add histograms with different number of bins - trying to use TH1::Merge\n",
      "Info in <TH1D::Add>: Attempt to add histograms with different number of bins - trying to use TH1::Merge\n",
      "Info in <TH1D::Add>: Attempt to add histograms with different number of bins - trying to use TH1::Merge\n",
      "Info in <TH1D::Add>: Attempt to add histograms with different number of bins - trying to use TH1::Merge\n",
      "Info in <TH1D::Add>: Attempt to add histograms with different number of bins - trying to use TH1::Merge\n",
      "Info in <TH1D::Add>: Attempt to add histograms with different number of bins - trying to use TH1::Merge\n",
      "Info in <TH1D::Add>: Attempt to add histograms with different number of bins - trying to use TH1::Merge\n",
      "Info in <TH1D::Add>: Attempt to add histograms with different number of bins - trying to use TH1::Merge\n",
      "Info in <TH1D::Add>: Attempt to add histograms with different number of bins - trying to use TH1::Merge\n",
      "Info in <TH1D::Add>: Attempt to add histograms with different number of bins - trying to use TH1::Merge\n",
      "Info in <TH1D::Add>: Attempt to add histograms with different number of bins - trying to use TH1::Merge\n",
      "Info in <TH1D::Add>: Attempt to add histograms with different number of bins - trying to use TH1::Merge\n"
     ]
    },
    {
     "data": {
      "image/png": "[encoded data removed]",
      "text/plain": [
       "<Figure size 432x432 with 1 Axes>"
      ]
     },
     "metadata": {},
     "output_type": "display_data"
    }
   ],
   "source": [
    "cat = 'vbflo'\n",
    "fail_qcd, pass_qcd = [], []\n",
    "bins = []\n",
    "ipt = 0\n",
    "\n",
    "fit = r.TFile.Open('fitDiagnosticsTest.root','READ')\n",
    "fail_qcd = fit.Get('shapes_{}/ptbin0{}{}{}/qcd;1'.format('fit_s', cat, 'fail', year))\n",
    "fail_qcd.Rebin(23)\n",
    "print(fail_qcd.GetBinContent(1))\n",
    "pass_qcd = fit.Get('shapes_{}/ptbin0{}{}{}/qcd;1'.format('fit_s', cat, 'pass', year))\n",
    "pass_qcd.Rebin(23)\n",
    "print(pass_qcd.GetBinContent(1))\n",
    "pass_qcd.Divide(fail_qcd)\n",
    "\n",
    "signalregion = r.TFile.Open('signalregion.root','READ')\n",
    "hfail = signalregion.Get('vbf_{}_mjj1_data_nominal;1'.format('fail'))\n",
    "hfail.Rebin(23)\n",
    "hpass = signalregion.Get('vbf_{}_mjj1_data_nominal;1'.format('pass'))\n",
    "hpass.Rebin(23)\n",
    "\n",
    "backgrounds = ['Wjets','Zjets','Zjetsbb','EWKW','EWKZ','EWKZbb',\n",
    "                   'ttbar','singlet','VV','ggF','VBF','ZH','WH','ttH']\n",
    "\n",
    "for b in backgrounds:\n",
    "    try:\n",
    "        bfail = fit.Get('shapes_{}/ptbin{}{}{}{}/{}'.format('fit_s', ipt, cat, 'fail', year, b))\n",
    "        bfail.Scale(-7)  \n",
    "        hfail.Add(bfail)\n",
    "    except:\n",
    "        print(\"Missing hist\", 'shapes_{}/ptbin{}{}{}{}/{}'.format('fit_s', ipt, cat, 'fail', year,b))\n",
    "    try:\n",
    "        bpass = fit.Get('shapes_{}/ptbin{}{}{}{}/{}'.format('fit_s', ipt, cat, 'pass', year, b))\n",
    "        bpass.Scale(-7)\n",
    "        hpass.Add(bpass)\n",
    "    except: \n",
    "        print(\"Missing hist \",'shapes_{}/ptbin{}{}{}{}/{}'.format('fit_s', ipt, cat, 'pass', year, b))    \n",
    "        \n",
    "hpass.Divide(hfail)\n",
    "\n",
    "ax = plotTF_ratio_onebin(pass_qcd, hpass, region=\"F_{res} VBF mjj bin 1, \"+year)\n",
    "#ax.legend(labels=['F_{res}','Data - non-QCD'],frameon=False)"
   ]
  },
  {
   "cell_type": "code",
   "execution_count": 7,
   "metadata": {
    "scrolled": true
   },
   "outputs": [
    {
     "name": "stderr",
     "output_type": "stream",
     "text": [
      "Info in <TH1D::Add>: Attempt to add histograms with different number of bins - trying to use TH1::Merge\n",
      "Info in <TH1D::Add>: Attempt to add histograms with different number of bins - trying to use TH1::Merge\n",
      "Info in <TH1D::Add>: Attempt to add histograms with different number of bins - trying to use TH1::Merge\n",
      "Info in <TH1D::Add>: Attempt to add histograms with different number of bins - trying to use TH1::Merge\n",
      "Info in <TH1D::Add>: Attempt to add histograms with different number of bins - trying to use TH1::Merge\n",
      "Info in <TH1D::Add>: Attempt to add histograms with different number of bins - trying to use TH1::Merge\n",
      "Info in <TH1D::Add>: Attempt to add histograms with different number of bins - trying to use TH1::Merge\n",
      "Info in <TH1D::Add>: Attempt to add histograms with different number of bins - trying to use TH1::Merge\n",
      "Info in <TH1D::Add>: Attempt to add histograms with different number of bins - trying to use TH1::Merge\n",
      "Info in <TH1D::Add>: Attempt to add histograms with different number of bins - trying to use TH1::Merge\n",
      "Info in <TH1D::Add>: Attempt to add histograms with different number of bins - trying to use TH1::Merge\n",
      "Info in <TH1D::Add>: Attempt to add histograms with different number of bins - trying to use TH1::Merge\n",
      "Info in <TH1D::Add>: Attempt to add histograms with different number of bins - trying to use TH1::Merge\n",
      "Info in <TH1D::Add>: Attempt to add histograms with different number of bins - trying to use TH1::Merge\n",
      "Info in <TH1D::Add>: Attempt to add histograms with different number of bins - trying to use TH1::Merge\n",
      "Info in <TH1D::Add>: Attempt to add histograms with different number of bins - trying to use TH1::Merge\n",
      "Info in <TH1D::Add>: Attempt to add histograms with different number of bins - trying to use TH1::Merge\n",
      "Info in <TH1D::Add>: Attempt to add histograms with different number of bins - trying to use TH1::Merge\n",
      "Info in <TH1D::Add>: Attempt to add histograms with different number of bins - trying to use TH1::Merge\n",
      "Info in <TH1D::Add>: Attempt to add histograms with different number of bins - trying to use TH1::Merge\n",
      "Info in <TH1D::Add>: Attempt to add histograms with different number of bins - trying to use TH1::Merge\n",
      "Info in <TH1D::Add>: Attempt to add histograms with different number of bins - trying to use TH1::Merge\n",
      "Info in <TH1D::Add>: Attempt to add histograms with different number of bins - trying to use TH1::Merge\n",
      "Info in <TH1D::Add>: Attempt to add histograms with different number of bins - trying to use TH1::Merge\n",
      "Info in <TH1D::Add>: Attempt to add histograms with different number of bins - trying to use TH1::Merge\n",
      "Info in <TH1D::Add>: Attempt to add histograms with different number of bins - trying to use TH1::Merge\n",
      "Info in <TH1D::Add>: Attempt to add histograms with different number of bins - trying to use TH1::Merge\n",
      "Info in <TH1D::Add>: Attempt to add histograms with different number of bins - trying to use TH1::Merge\n"
     ]
    },
    {
     "data": {
      "image/png": "[encoded data removed]",
      "text/plain": [
       "<Figure size 432x432 with 1 Axes>"
      ]
     },
     "metadata": {},
     "output_type": "display_data"
    }
   ],
   "source": [
    "cat = 'vbfhi'\n",
    "fail_qcd, pass_qcd = [], []\n",
    "bins = []\n",
    "\n",
    "fit = r.TFile.Open('fitDiagnosticsTest.root','READ')\n",
    "fail_qcd = fit.Get('shapes_{}/ptbin0{}{}{}/qcd;1'.format('fit_s', cat, 'fail', year))\n",
    "fail_qcd.Rebin(23)\n",
    "pass_qcd = fit.Get('shapes_{}/ptbin0{}{}{}/qcd;1'.format('fit_s', cat, 'pass', year))\n",
    "pass_qcd.Rebin(23)\n",
    "pass_qcd.Divide(fail_qcd)\n",
    "\n",
    "signalregion = r.TFile.Open('signalregion.root','READ')\n",
    "hfail = signalregion.Get('vbf_{}_mjj2_data_nominal;1'.format('fail'))\n",
    "hfail.Rebin(23)\n",
    "hpass = signalregion.Get('vbf_{}_mjj2_data_nominal;1'.format('pass'))\n",
    "hpass.Rebin(23)\n",
    "\n",
    "backgrounds = ['Wjets','Zjets','Zjetsbb','EWKW','EWKZ','EWKZbb',\n",
    "                   'ttbar','singlet','VV','ggF','VBF','ZH','WH','ttH']\n",
    "\n",
    "for b in backgrounds:\n",
    "    try:\n",
    "        bfail = fit.Get('shapes_{}/ptbin{}{}{}{}/{}'.format('fit_s', ipt, cat, 'fail', year, b))\n",
    "        bfail.Scale(-7)  \n",
    "        hfail.Add(bfail)\n",
    "    except:\n",
    "        print(\"Missing hist\", 'shapes_{}/ptbin{}{}{}{}/{}'.format('fit_s', ipt, cat, 'fail', year,b))\n",
    "    try:\n",
    "        bpass = fit.Get('shapes_{}/ptbin{}{}{}{}/{}'.format('fit_s', ipt, cat, 'pass', year, b))\n",
    "        bpass.Scale(-7)\n",
    "        hpass.Add(bpass)\n",
    "    except: \n",
    "        print(\"Missing hist \",'shapes_{}/ptbin{}{}{}{}/{}'.format('fit_s', ipt, cat, 'pass', year, b)) \n",
    "     \n",
    "hpass.Divide(hfail)\n",
    "\n",
    "ax = plotTF_ratio_onebin(pass_qcd, hpass, region=\"F_{res} VBF mjj bin 2, \"+year)\n",
    "#ax.legend(labels=['F_{res}','Data - non-QCD'],frameon=False)"
   ]
  },
  {
   "cell_type": "code",
   "execution_count": 8,
   "metadata": {},
   "outputs": [
    {
     "name": "stdout",
     "output_type": "stream",
     "text": [
      "('Missing hist ', 'shapes_fit_s/ptbin0vbflopass2016/singlet')\n"
     ]
    },
    {
     "name": "stderr",
     "output_type": "stream",
     "text": [
      "Info in <TH1D::Add>: Attempt to add histograms with different number of bins - trying to use TH1::Merge\n",
      "Info in <TH1D::Add>: Attempt to add histograms with different number of bins - trying to use TH1::Merge\n",
      "Info in <TH1D::Add>: Attempt to add histograms with different number of bins - trying to use TH1::Merge\n",
      "Info in <TH1D::Add>: Attempt to add histograms with different number of bins - trying to use TH1::Merge\n",
      "Info in <TH1D::Add>: Attempt to add histograms with different number of bins - trying to use TH1::Merge\n",
      "Info in <TH1D::Add>: Attempt to add histograms with different number of bins - trying to use TH1::Merge\n",
      "Info in <TH1D::Add>: Attempt to add histograms with different number of bins - trying to use TH1::Merge\n",
      "Info in <TH1D::Add>: Attempt to add histograms with different number of bins - trying to use TH1::Merge\n",
      "Info in <TH1D::Add>: Attempt to add histograms with different number of bins - trying to use TH1::Merge\n",
      "Info in <TH1D::Add>: Attempt to add histograms with different number of bins - trying to use TH1::Merge\n",
      "Info in <TH1D::Add>: Attempt to add histograms with different number of bins - trying to use TH1::Merge\n",
      "Info in <TH1D::Add>: Attempt to add histograms with different number of bins - trying to use TH1::Merge\n",
      "Info in <TH1D::Add>: Attempt to add histograms with different number of bins - trying to use TH1::Merge\n",
      "Info in <TH1D::Add>: Attempt to add histograms with different number of bins - trying to use TH1::Merge\n",
      "Info in <TH1D::Add>: Attempt to add histograms with different number of bins - trying to use TH1::Merge\n",
      "Info in <TH1D::Add>: Attempt to add histograms with different number of bins - trying to use TH1::Merge\n",
      "Info in <TH1D::Add>: Attempt to add histograms with different number of bins - trying to use TH1::Merge\n",
      "Info in <TH1D::Add>: Attempt to add histograms with different number of bins - trying to use TH1::Merge\n",
      "Info in <TH1D::Add>: Attempt to add histograms with different number of bins - trying to use TH1::Merge\n",
      "Info in <TH1D::Add>: Attempt to add histograms with different number of bins - trying to use TH1::Merge\n",
      "Info in <TH1D::Add>: Attempt to add histograms with different number of bins - trying to use TH1::Merge\n",
      "Info in <TH1D::Add>: Attempt to add histograms with different number of bins - trying to use TH1::Merge\n",
      "Info in <TH1D::Add>: Attempt to add histograms with different number of bins - trying to use TH1::Merge\n",
      "Info in <TH1D::Add>: Attempt to add histograms with different number of bins - trying to use TH1::Merge\n",
      "Info in <TH1D::Add>: Attempt to add histograms with different number of bins - trying to use TH1::Merge\n",
      "Info in <TH1D::Add>: Attempt to add histograms with different number of bins - trying to use TH1::Merge\n",
      "Info in <TH1D::Add>: Attempt to add histograms with different number of bins - trying to use TH1::Merge\n"
     ]
    },
    {
     "data": {
      "image/png": "[encoded data removed]",
      "text/plain": [
       "<Figure size 432x432 with 1 Axes>"
      ]
     },
     "metadata": {},
     "output_type": "display_data"
    }
   ],
   "source": [
    "cat = 'vbflo'\n",
    "fail_qcd, pass_qcd = [], []\n",
    "bins = []\n",
    "\n",
    "fit = r.TFile.Open('fitDiagnosticsTest.root','READ')\n",
    "fail_qcd = fit.Get('shapes_{}/ptbin0{}{}{}/qcd;1'.format('prefit', cat, 'fail', year))\n",
    "fail_qcd.Rebin(23)\n",
    "pass_qcd = fit.Get('shapes_{}/ptbin0{}{}{}/qcd;1'.format('prefit', cat, 'pass', year))\n",
    "pass_qcd.Rebin(23)\n",
    "pass_qcd.Divide(fail_qcd)\n",
    "\n",
    "signalregion = r.TFile.Open('signalregion.root','READ')\n",
    "hfail = signalregion.Get('vbf_{}_mjj1_data_nominal;1'.format('fail'))\n",
    "hfail.Rebin(23)\n",
    "hpass = signalregion.Get('vbf_{}_mjj1_data_nominal;1'.format('pass'))\n",
    "hpass.Rebin(23)\n",
    "\n",
    "backgrounds = ['Wjets','Zjets','Zjetsbb','EWKW','EWKZ','EWKZbb',\n",
    "                   'ttbar','singlet','VV','ggF','VBF','ZH','WH','ttH']\n",
    "\n",
    "for b in backgrounds:\n",
    "    try:\n",
    "        bfail = fit.Get('shapes_{}/ptbin{}{}{}{}/{}'.format('fit_s', ipt, cat, 'fail', year, b))\n",
    "        bfail.Scale(-7)  \n",
    "        hfail.Add(bfail)\n",
    "    except:\n",
    "        print(\"Missing hist\", 'shapes_{}/ptbin{}{}{}{}/{}'.format('fit_s', ipt, cat, 'fail', year,b))\n",
    "    try:\n",
    "        bpass = fit.Get('shapes_{}/ptbin{}{}{}{}/{}'.format('fit_s', ipt, cat, 'pass', year, b))\n",
    "        bpass.Scale(-7)\n",
    "        hpass.Add(bpass)\n",
    "    except: \n",
    "        print(\"Missing hist \",'shapes_{}/ptbin{}{}{}{}/{}'.format('fit_s', ipt, cat, 'pass', year, b)) \n",
    "     \n",
    "hpass.Divide(hfail)\n",
    "\n",
    "ax = plotTF_ratio_onebin(pass_qcd, hpass, region=\"F_{res} VBF mjj bin 1, \"+year)\n",
    "#ax.legend(labels=['F_{res}','Data - non-QCD'],frameon=False)"
   ]
  },
  {
   "cell_type": "code",
   "execution_count": 9,
   "metadata": {},
   "outputs": [
    {
     "name": "stderr",
     "output_type": "stream",
     "text": [
      "Info in <TH1D::Add>: Attempt to add histograms with different number of bins - trying to use TH1::Merge\n",
      "Info in <TH1D::Add>: Attempt to add histograms with different number of bins - trying to use TH1::Merge\n",
      "Info in <TH1D::Add>: Attempt to add histograms with different number of bins - trying to use TH1::Merge\n",
      "Info in <TH1D::Add>: Attempt to add histograms with different number of bins - trying to use TH1::Merge\n",
      "Info in <TH1D::Add>: Attempt to add histograms with different number of bins - trying to use TH1::Merge\n",
      "Info in <TH1D::Add>: Attempt to add histograms with different number of bins - trying to use TH1::Merge\n",
      "Info in <TH1D::Add>: Attempt to add histograms with different number of bins - trying to use TH1::Merge\n",
      "Info in <TH1D::Add>: Attempt to add histograms with different number of bins - trying to use TH1::Merge\n",
      "Info in <TH1D::Add>: Attempt to add histograms with different number of bins - trying to use TH1::Merge\n",
      "Info in <TH1D::Add>: Attempt to add histograms with different number of bins - trying to use TH1::Merge\n",
      "Info in <TH1D::Add>: Attempt to add histograms with different number of bins - trying to use TH1::Merge\n",
      "Info in <TH1D::Add>: Attempt to add histograms with different number of bins - trying to use TH1::Merge\n",
      "Info in <TH1D::Add>: Attempt to add histograms with different number of bins - trying to use TH1::Merge\n",
      "Info in <TH1D::Add>: Attempt to add histograms with different number of bins - trying to use TH1::Merge\n",
      "Info in <TH1D::Add>: Attempt to add histograms with different number of bins - trying to use TH1::Merge\n",
      "Info in <TH1D::Add>: Attempt to add histograms with different number of bins - trying to use TH1::Merge\n",
      "Info in <TH1D::Add>: Attempt to add histograms with different number of bins - trying to use TH1::Merge\n",
      "Info in <TH1D::Add>: Attempt to add histograms with different number of bins - trying to use TH1::Merge\n",
      "Info in <TH1D::Add>: Attempt to add histograms with different number of bins - trying to use TH1::Merge\n",
      "Info in <TH1D::Add>: Attempt to add histograms with different number of bins - trying to use TH1::Merge\n",
      "Info in <TH1D::Add>: Attempt to add histograms with different number of bins - trying to use TH1::Merge\n",
      "Info in <TH1D::Add>: Attempt to add histograms with different number of bins - trying to use TH1::Merge\n",
      "Info in <TH1D::Add>: Attempt to add histograms with different number of bins - trying to use TH1::Merge\n",
      "Info in <TH1D::Add>: Attempt to add histograms with different number of bins - trying to use TH1::Merge\n",
      "Info in <TH1D::Add>: Attempt to add histograms with different number of bins - trying to use TH1::Merge\n",
      "Info in <TH1D::Add>: Attempt to add histograms with different number of bins - trying to use TH1::Merge\n",
      "Info in <TH1D::Add>: Attempt to add histograms with different number of bins - trying to use TH1::Merge\n",
      "Info in <TH1D::Add>: Attempt to add histograms with different number of bins - trying to use TH1::Merge\n"
     ]
    },
    {
     "data": {
      "image/png": "[encoded data removed]",
      "text/plain": [
       "<Figure size 432x432 with 1 Axes>"
      ]
     },
     "metadata": {},
     "output_type": "display_data"
    }
   ],
   "source": [
    "cat = 'vbfhi'\n",
    "fail_qcd, pass_qcd = [], []\n",
    "bins = []\n",
    "\n",
    "fit = r.TFile.Open('fitDiagnosticsTest.root','READ')\n",
    "fail_qcd = fit.Get('shapes_{}/ptbin0{}{}{}/qcd;1'.format('prefit', cat, 'fail', year))\n",
    "fail_qcd.Rebin(23)\n",
    "pass_qcd = fit.Get('shapes_{}/ptbin0{}{}{}/qcd;1'.format('prefit', cat, 'pass', year))\n",
    "pass_qcd.Rebin(23)\n",
    "pass_qcd.Divide(fail_qcd)\n",
    "\n",
    "signalregion = r.TFile.Open('signalregion.root','READ')\n",
    "hfail = signalregion.Get('vbf_{}_mjj2_data_nominal;1'.format('fail'))\n",
    "hfail.Rebin(23)\n",
    "hpass = signalregion.Get('vbf_{}_mjj2_data_nominal;1'.format('pass'))\n",
    "hpass.Rebin(23)\n",
    "\n",
    "backgrounds = ['Wjets','Zjets','Zjetsbb','EWKW','EWKZ','EWKZbb',\n",
    "                   'ttbar','singlet','VV','ggF','VBF','ZH','WH','ttH']\n",
    "\n",
    "for b in backgrounds:\n",
    "    try:\n",
    "        bfail = fit.Get('shapes_{}/ptbin{}{}{}{}/{}'.format('fit_s', ipt, cat, 'fail', year, b))\n",
    "        bfail.Scale(-7)  \n",
    "        hfail.Add(bfail)\n",
    "    except:\n",
    "        print(\"Missing hist\", 'shapes_{}/ptbin{}{}{}{}/{}'.format('fit_s', ipt, cat, 'fail', year,b))\n",
    "    try:\n",
    "        bpass = fit.Get('shapes_{}/ptbin{}{}{}{}/{}'.format('fit_s', ipt, cat, 'pass', year, b))\n",
    "        bpass.Scale(-7)\n",
    "        hpass.Add(bpass)\n",
    "    except: \n",
    "        print(\"Missing hist \",'shapes_{}/ptbin{}{}{}{}/{}'.format('fit_s', ipt, cat, 'pass', year, b)) \n",
    "     \n",
    "hpass.Divide(hfail)\n",
    "\n",
    "ax = plotTF_ratio_onebin(pass_qcd, hpass, region=\"F_{res} VBF mjj bin 2, \"+year)\n",
    "#ax.legend(labels=['F_{res}','Data - non-QCD'],frameon=False)"
   ]
  },
  {
   "cell_type": "code",
   "execution_count": 10,
   "metadata": {},
   "outputs": [],
   "source": [
    "def plot_fitMC(in_ratio, h_ratio, region):\n",
    "    fig, ax = plt.subplots(figsize=(6,6))\n",
    "    \n",
    "    color = 'blue'\n",
    "    if 'res' in region:\n",
    "        color = 'red'\n",
    "        \n",
    "    x = [0,1]\n",
    "    center = in_ratio.GetBinContent(1)\n",
    "    down = center - in_ratio.GetBinError(1)\n",
    "    up = center + in_ratio.GetBinError(1)\n",
    "    \n",
    "    plt.fill_between(x, [down, down], [up, up],color=color,alpha=0.3,label='fit err')\n",
    "    plt.plot(x,[center,center],color=color,label='fit')\n",
    "    \n",
    "    plt.errorbar(x=[0.5],y=[h_ratio.GetBinContent(1)],yerr=[h_ratio.GetBinError(1)],marker='o',color='black',label='MC')\n",
    "    plt.legend(frameon=False)\n"
   ]
  },
  {
   "cell_type": "code",
   "execution_count": 11,
   "metadata": {},
   "outputs": [
    {
     "data": {
      "image/png": "[encoded data removed]",
      "text/plain": [
       "<Figure size 432x432 with 1 Axes>"
      ]
     },
     "metadata": {},
     "output_type": "display_data"
    }
   ],
   "source": [
    "cat = 'vbflo'\n",
    "fail_qcd, pass_qcd = [], []\n",
    "bins = []\n",
    "\n",
    "fit = r.TFile.Open('fitDiagnosticsTest.root','READ')\n",
    "fail_qcd = fit.Get('shapes_{}/ptbin0{}{}{}/qcd;1'.format('fit_s', cat, 'fail', year))\n",
    "pass_qcd = fit.Get('shapes_{}/ptbin0{}{}{}/qcd;1'.format('fit_s', cat, 'pass', year))\n",
    "#pass_qcd.Divide(fail_qcd)\n",
    "\n",
    "hfail = fit.Get('shapes_{}/ptbin0{}{}{}/qcd;1'.format('prefit', cat, 'fail', year))\n",
    "hpass = fit.Get('shapes_{}/ptbin0{}{}{}/qcd;1'.format('prefit', cat, 'pass', year))\n",
    "\n",
    "#hpass.Divide(hfail)\n",
    "\n",
    "ax = plot_fitMC(pass_qcd, hpass, region=\"VBF mjj bin 1 PASS, \"+year)\n",
    "#ax.legend(labels=['F_{res}','Data - non-QCD'],frameon=False)"
   ]
  },
  {
   "cell_type": "code",
   "execution_count": 12,
   "metadata": {},
   "outputs": [
    {
     "data": {
      "image/png": "[encoded data removed]",
      "text/plain": [
       "<Figure size 432x432 with 1 Axes>"
      ]
     },
     "metadata": {},
     "output_type": "display_data"
    }
   ],
   "source": [
    "cat = 'vbflo'\n",
    "fail_qcd, pass_qcd = [], []\n",
    "bins = []\n",
    "\n",
    "fit = r.TFile.Open('fitDiagnosticsTest.root','READ')\n",
    "fail_qcd = fit.Get('shapes_{}/ptbin0{}{}{}/qcd;1'.format('fit_s', cat, 'fail', year))\n",
    "pass_qcd = fit.Get('shapes_{}/ptbin0{}{}{}/qcd;1'.format('fit_s', cat, 'pass', year))\n",
    "#pass_qcd.Divide(fail_qcd)\n",
    "\n",
    "hfail = fit.Get('shapes_{}/ptbin0{}{}{}/qcd;1'.format('prefit', cat, 'fail', year))\n",
    "hpass = fit.Get('shapes_{}/ptbin0{}{}{}/qcd;1'.format('prefit', cat, 'pass', year))\n",
    "\n",
    "#hpass.Divide(hfail)\n",
    "\n",
    "ax = plot_fitMC(fail_qcd, hfail, region=\"VBF mjj bin 1 FAIL, \"+year)\n",
    "#ax.legend(labels=['F_{res}','Data - non-QCD'],frameon=False)"
   ]
  },
  {
   "cell_type": "code",
   "execution_count": 13,
   "metadata": {},
   "outputs": [
    {
     "data": {
      "text/plain": [
       "(0, 0.015)"
      ]
     },
     "execution_count": 13,
     "metadata": {},
     "output_type": "execute_result"
    },
    {
     "data": {
      "image/png": "[encoded data removed]",
      "text/plain": [
       "<Figure size 432x432 with 1 Axes>"
      ]
     },
     "metadata": {},
     "output_type": "display_data"
    }
   ],
   "source": [
    "cat = 'vbflo'\n",
    "fail_qcd, pass_qcd = [], []\n",
    "bins = []\n",
    "\n",
    "fit = r.TFile.Open('fitDiagnosticsTest.root','READ')\n",
    "fail_qcd = fit.Get('shapes_{}/ptbin0{}{}{}/qcd;1'.format('fit_s', cat, 'fail', year))\n",
    "pass_qcd = fit.Get('shapes_{}/ptbin0{}{}{}/qcd;1'.format('fit_s', cat, 'pass', year))\n",
    "pass_qcd.Divide(fail_qcd)\n",
    "\n",
    "hfail = fit.Get('shapes_{}/ptbin0{}{}{}/qcd;1'.format('prefit', cat, 'fail', year))\n",
    "hpass = fit.Get('shapes_{}/ptbin0{}{}{}/qcd;1'.format('prefit', cat, 'pass', year))\n",
    "hpass.Divide(hfail)\n",
    "\n",
    "ax = plot_fitMC(pass_qcd, hpass, region=\"VBF mjj bin 1 RATIO, \"+year)\n",
    "plt.ylim(0,0.015)\n",
    "#ax.legend(labels=['F_{res}','Data - non-QCD'],frameon=False)"
   ]
  },
  {
   "cell_type": "code",
   "execution_count": 14,
   "metadata": {},
   "outputs": [
    {
     "data": {
      "image/png": "[encoded data removed]",
      "text/plain": [
       "<Figure size 432x432 with 1 Axes>"
      ]
     },
     "metadata": {},
     "output_type": "display_data"
    }
   ],
   "source": [
    "cat = 'vbfhi'\n",
    "fail_qcd, pass_qcd = [], []\n",
    "bins = []\n",
    "\n",
    "fit = r.TFile.Open('fitDiagnosticsTest.root','READ')\n",
    "fail_qcd = fit.Get('shapes_{}/ptbin0{}{}{}/qcd;1'.format('fit_s', cat, 'fail', year))\n",
    "pass_qcd = fit.Get('shapes_{}/ptbin0{}{}{}/qcd;1'.format('fit_s', cat, 'pass', year))\n",
    "#pass_qcd.Divide(fail_qcd)\n",
    "\n",
    "hfail = fit.Get('shapes_{}/ptbin0{}{}{}/qcd;1'.format('prefit', cat, 'fail', year))\n",
    "hpass = fit.Get('shapes_{}/ptbin0{}{}{}/qcd;1'.format('prefit', cat, 'pass', year))\n",
    "\n",
    "#hpass.Divide(hfail)\n",
    "\n",
    "ax = plot_fitMC(pass_qcd, hpass, region=\"VBF mjj bin 2 PASS, \"+year)\n",
    "#ax.legend(labels=['F_{res}','Data - non-QCD'],frameon=False)"
   ]
  },
  {
   "cell_type": "code",
   "execution_count": 15,
   "metadata": {},
   "outputs": [
    {
     "data": {
      "image/png": "[encoded data removed]",
      "text/plain": [
       "<Figure size 432x432 with 1 Axes>"
      ]
     },
     "metadata": {},
     "output_type": "display_data"
    }
   ],
   "source": [
    "cat = 'vbfhi'\n",
    "fail_qcd, pass_qcd = [], []\n",
    "bins = []\n",
    "\n",
    "fit = r.TFile.Open('fitDiagnosticsTest.root','READ')\n",
    "fail_qcd = fit.Get('shapes_{}/ptbin0{}{}{}/qcd;1'.format('fit_s', cat, 'fail', year))\n",
    "pass_qcd = fit.Get('shapes_{}/ptbin0{}{}{}/qcd;1'.format('fit_s', cat, 'pass', year))\n",
    "#pass_qcd.Divide(fail_qcd)\n",
    "\n",
    "hfail = fit.Get('shapes_{}/ptbin0{}{}{}/qcd;1'.format('prefit', cat, 'fail', year))\n",
    "hpass = fit.Get('shapes_{}/ptbin0{}{}{}/qcd;1'.format('prefit', cat, 'pass', year))\n",
    "\n",
    "#hpass.Divide(hfail)\n",
    "\n",
    "ax = plot_fitMC(fail_qcd, hfail, region=\"VBF mjj bin 2 FAIL, \"+year)\n",
    "#ax.legend(labels=['F_{res}','Data - non-QCD'],frameon=False)"
   ]
  },
  {
   "cell_type": "code",
   "execution_count": 16,
   "metadata": {},
   "outputs": [
    {
     "data": {
      "text/plain": [
       "(0, 0.015)"
      ]
     },
     "execution_count": 16,
     "metadata": {},
     "output_type": "execute_result"
    },
    {
     "data": {
      "image/png": "[encoded data removed]",
      "text/plain": [
       "<Figure size 432x432 with 1 Axes>"
      ]
     },
     "metadata": {},
     "output_type": "display_data"
    }
   ],
   "source": [
    "cat = 'vbfhi'\n",
    "fail_qcd, pass_qcd = [], []\n",
    "bins = []\n",
    "\n",
    "fit = r.TFile.Open('fitDiagnosticsTest.root','READ')\n",
    "fail_qcd = fit.Get('shapes_{}/ptbin0{}{}{}/qcd;1'.format('fit_s', cat, 'fail', year))\n",
    "pass_qcd = fit.Get('shapes_{}/ptbin0{}{}{}/qcd;1'.format('fit_s', cat, 'pass', year))\n",
    "pass_qcd.Divide(fail_qcd)\n",
    "\n",
    "hfail = fit.Get('shapes_{}/ptbin0{}{}{}/qcd;1'.format('prefit', cat, 'fail', year))\n",
    "hpass = fit.Get('shapes_{}/ptbin0{}{}{}/qcd;1'.format('prefit', cat, 'pass', year))\n",
    "hpass.Divide(hfail)\n",
    "\n",
    "ax = plot_fitMC(pass_qcd, hpass, region=\"VBF mjj bin 2 RATIO, \"+year)\n",
    "plt.ylim(0,0.015)\n",
    "#ax.legend(labels=['F_{res}','Data - non-QCD'],frameon=False)"
   ]
  },
  {
   "cell_type": "code",
   "execution_count": null,
   "metadata": {},
   "outputs": [],
   "source": []
  }
 ],
 "metadata": {
  "kernelspec": {
   "display_name": "Python 2",
   "language": "python",
   "name": "python2"
  },
  "language_info": {
   "codemirror_mode": {
    "name": "ipython",
    "version": 2
   },
   "file_extension": ".py",
   "mimetype": "text/x-python",
   "name": "python",
   "nbconvert_exporter": "python",
   "pygments_lexer": "ipython2",
   "version": "2.7.14+"
  }
 },
 "nbformat": 4,
 "nbformat_minor": 2
}
